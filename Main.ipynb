{
 "cells": [
  {
   "cell_type": "markdown",
   "id": "196c3161-7e7e-45b7-842e-cb4dfecd2b14",
   "metadata": {},
   "source": [
    "# Deep Feedforward Networks: Practical Implementation\n",
    "**Authors:** Iheb Marouani & Zuzanna Bojarska  \n",
    "**Seminar:** Deep Learning Concepts, University of Osnabrück (2024/2025)  \n",
    "**Chapter Focus:** Deep Feedforward Networks\n",
    "---\n",
    "\n",
    "## 1. Setup: Import Libraries and Configure the Environment\n",
    "We start by importing the required libraries and setting up our environment. PyTorch will be used to define and train our model, and we will use CUDA if it is available.\n"
   ]
  },
  {
   "cell_type": "code",
   "execution_count": 36,
   "id": "0e7404c5-2ef2-4b13-9d27-673b874bd52c",
   "metadata": {},
   "outputs": [
    {
     "name": "stdout",
     "output_type": "stream",
     "text": [
      "Using device: cpu\n"
     ]
    }
   ],
   "source": [
    "# Import necessary libraries\n",
    "import torch\n",
    "import torch.nn as nn\n",
    "import torch.optim as optim\n",
    "from model.ffn import FeedForwardNetwork  # Import the model from the model directory\n",
    "from utils.data_preparation import prepare_data  # Import the data preparation function\n",
    "\n",
    "# Configure the device\n",
    "device = torch.device(\"cuda\" if torch.cuda.is_available() else \"cpu\")\n",
    "print(\"Using device:\", device)\n"
   ]
  },
  {
   "cell_type": "markdown",
   "id": "659f27c7-4b5a-4231-82ac-ac85e92836a8",
   "metadata": {},
   "source": [
    "## 2. Data Preparation\n",
    "We prepare the CIFAR-10 dataset by normalizing it and loading it into DataLoader objects for efficient batch processing during training and testing."
   ]
  },
  {
   "cell_type": "code",
   "execution_count": 37,
   "id": "1bf5778d-e63a-4c25-b4bb-4d999f214ec9",
   "metadata": {},
   "outputs": [
    {
     "name": "stdout",
     "output_type": "stream",
     "text": [
      "Files already downloaded and verified\n",
      "Files already downloaded and verified\n"
     ]
    }
   ],
   "source": [
    "trainloader, testloader, classes = prepare_data()\n"
   ]
  },
  {
   "cell_type": "markdown",
   "id": "f542ffe5-97e3-455a-9407-aa5e80b03e98",
   "metadata": {},
   "source": [
    "## 3. Model Architecture\n",
    "We define a simple feedforward network with three fully connected layers and ReLU activations. The model is designed based on concepts from Chapter 6."
   ]
  },
  {
   "cell_type": "code",
   "execution_count": 38,
   "id": "d9320408-a22e-48f3-a218-5a1780ef7310",
   "metadata": {},
   "outputs": [
    {
     "name": "stdout",
     "output_type": "stream",
     "text": [
      "FeedForwardNetwork(\n",
      "  (fc1): Linear(in_features=3072, out_features=1024, bias=True)\n",
      "  (relu): ReLU()\n",
      "  (fc2): Linear(in_features=1024, out_features=512, bias=True)\n",
      "  (fc3): Linear(in_features=512, out_features=10, bias=True)\n",
      ")\n"
     ]
    }
   ],
   "source": [
    "# Initialize the feedforward network and move it to the configured device\n",
    "model = FeedForwardNetwork().to(device)  # Model from model/ffn.py\n",
    "print(model)\n"
   ]
  },
  {
   "cell_type": "markdown",
   "id": "8807989f-5cbf-4d35-944e-bc46335b2878",
   "metadata": {},
   "source": [
    "## 4. Loss Function and Optimizer\n",
    "We use cross-entropy loss for our classification problem and SGD (stochastic gradient descent) as the optimizer to update the model's parameters."
   ]
  },
  {
   "cell_type": "code",
   "execution_count": 39,
   "id": "d1fc44df-ae99-4955-8d52-c7cb342a1551",
   "metadata": {},
   "outputs": [],
   "source": [
    "# Define the loss function and optimizer\n",
    "criterion = nn.CrossEntropyLoss()  # Standard loss function for classification\n",
    "optimizer = optim.SGD(model.parameters(), lr=0.01)  # Using SGD with a learning rate of 0.01\n"
   ]
  },
  {
   "cell_type": "markdown",
   "id": "227fa9ba-5865-4370-9c24-03ff82c80112",
   "metadata": {},
   "source": [
    "## 5. Training the Model\n",
    "We train the model over multiple epochs. Each iteration consists of a forward pass, loss calculation, backward pass, and parameter update.\n"
   ]
  },
  {
   "cell_type": "code",
   "execution_count": 40,
   "id": "60191bd9-5881-4ae4-b457-fffa64c82d3c",
   "metadata": {},
   "outputs": [
    {
     "name": "stdout",
     "output_type": "stream",
     "text": [
      "[1, 100] loss: 2.265\n",
      "[1, 200] loss: 2.183\n",
      "[1, 300] loss: 2.088\n",
      "[1, 400] loss: 2.018\n",
      "[1, 500] loss: 1.946\n",
      "[1, 600] loss: 1.901\n",
      "[1, 700] loss: 1.885\n",
      "[1, 800] loss: 1.830\n",
      "[1, 900] loss: 1.833\n",
      "[1, 1000] loss: 1.795\n",
      "[1, 1100] loss: 1.750\n",
      "[1, 1200] loss: 1.769\n",
      "[1, 1300] loss: 1.733\n",
      "[1, 1400] loss: 1.696\n",
      "[1, 1500] loss: 1.703\n",
      "[2, 100] loss: 1.666\n",
      "[2, 200] loss: 1.641\n",
      "[2, 300] loss: 1.642\n",
      "[2, 400] loss: 1.650\n",
      "[2, 500] loss: 1.607\n",
      "[2, 600] loss: 1.586\n",
      "[2, 700] loss: 1.593\n",
      "[2, 800] loss: 1.595\n",
      "[2, 900] loss: 1.604\n",
      "[2, 1000] loss: 1.578\n",
      "[2, 1100] loss: 1.595\n",
      "[2, 1200] loss: 1.588\n",
      "[2, 1300] loss: 1.553\n",
      "[2, 1400] loss: 1.553\n",
      "[2, 1500] loss: 1.551\n",
      "[3, 100] loss: 1.487\n",
      "[3, 200] loss: 1.514\n",
      "[3, 300] loss: 1.495\n",
      "[3, 400] loss: 1.492\n",
      "[3, 500] loss: 1.488\n",
      "[3, 600] loss: 1.489\n",
      "[3, 700] loss: 1.488\n",
      "[3, 800] loss: 1.500\n",
      "[3, 900] loss: 1.482\n",
      "[3, 1000] loss: 1.492\n",
      "[3, 1100] loss: 1.471\n",
      "[3, 1200] loss: 1.468\n",
      "[3, 1300] loss: 1.470\n",
      "[3, 1400] loss: 1.484\n",
      "[3, 1500] loss: 1.424\n",
      "[4, 100] loss: 1.417\n",
      "[4, 200] loss: 1.393\n",
      "[4, 300] loss: 1.420\n",
      "[4, 400] loss: 1.402\n",
      "[4, 500] loss: 1.387\n",
      "[4, 600] loss: 1.396\n",
      "[4, 700] loss: 1.381\n",
      "[4, 800] loss: 1.418\n",
      "[4, 900] loss: 1.380\n",
      "[4, 1000] loss: 1.377\n",
      "[4, 1100] loss: 1.403\n",
      "[4, 1200] loss: 1.361\n",
      "[4, 1300] loss: 1.382\n",
      "[4, 1400] loss: 1.364\n",
      "[4, 1500] loss: 1.390\n",
      "[5, 100] loss: 1.314\n",
      "[5, 200] loss: 1.322\n",
      "[5, 300] loss: 1.341\n",
      "[5, 400] loss: 1.343\n",
      "[5, 500] loss: 1.344\n",
      "[5, 600] loss: 1.340\n",
      "[5, 700] loss: 1.306\n",
      "[5, 800] loss: 1.319\n",
      "[5, 900] loss: 1.315\n",
      "[5, 1000] loss: 1.291\n",
      "[5, 1100] loss: 1.322\n",
      "[5, 1200] loss: 1.311\n",
      "[5, 1300] loss: 1.312\n",
      "[5, 1400] loss: 1.314\n",
      "[5, 1500] loss: 1.300\n",
      "Finished Training\n"
     ]
    }
   ],
   "source": [
    "num_epochs = 5  # You can adjust the number of epochs as needed\n",
    "\n",
    "for epoch in range(num_epochs):\n",
    "    running_loss = 0.0\n",
    "    for i, data in enumerate(trainloader, 0):\n",
    "        inputs, labels = data\n",
    "        inputs, labels = inputs.to(device), labels.to(device)\n",
    "\n",
    "        # Zero the parameter gradients\n",
    "        optimizer.zero_grad()\n",
    "\n",
    "        # Forward pass\n",
    "        outputs = model(inputs)\n",
    "        loss = criterion(outputs, labels)\n",
    "\n",
    "        # Backward pass and optimization\n",
    "        loss.backward()\n",
    "        optimizer.step()\n",
    "\n",
    "        # Print statistics\n",
    "        running_loss += loss.item()\n",
    "        if i % 100 == 99:  # Print every 100 mini-batches\n",
    "            print(f\"[{epoch + 1}, {i + 1}] loss: {running_loss / 100:.3f}\")\n",
    "            running_loss = 0.0\n",
    "\n",
    "print(\"Finished Training\")\n"
   ]
  },
  {
   "cell_type": "code",
   "execution_count": 41,
   "id": "a48c11a5-2bb9-4996-b037-5ead18daaf88",
   "metadata": {},
   "outputs": [],
   "source": [
    "torch.save(model.state_dict(), \"feedforward_net.pth\")\n"
   ]
  },
  {
   "cell_type": "markdown",
   "id": "a3b137d6-9a72-4f18-bb6e-19f1518184ab",
   "metadata": {},
   "source": [
    "## 6. Evaluating the Model\n",
    "We evaluate the trained model on the test set to measure its accuracy."
   ]
  },
  {
   "cell_type": "code",
   "execution_count": 28,
   "id": "407f72ee-bf53-4f75-a344-e5e30289861b",
   "metadata": {},
   "outputs": [
    {
     "name": "stdout",
     "output_type": "stream",
     "text": [
      "Accuracy on the 10,000 test images: 9.91%\n"
     ]
    }
   ],
   "source": [
    "# Evaluate the model on the test set\n",
    "model.eval()  # Set the model to evaluation mode\n",
    "correct = 0\n",
    "total = 0\n",
    "\n",
    "with torch.no_grad():  # Disable gradient calculation for inference\n",
    "    for images, labels in testloader:\n",
    "        images, labels = images.to(device), labels.to(device)\n",
    "        outputs = model(images)\n",
    "        _, predicted = torch.max(outputs, 1)\n",
    "        total += labels.size(0)\n",
    "        correct += (predicted == labels).sum().item()\n",
    "\n",
    "accuracy = 100 * correct / total\n",
    "print(f\"Accuracy on the 10,000 test images: {accuracy:.2f}%\")\n"
   ]
  },
  {
   "cell_type": "markdown",
   "id": "697f9641-aab9-443c-a2d6-6a84e67de060",
   "metadata": {},
   "source": [
    "## 7. Visualizing Training Loss\n",
    "We visualize how the training loss decreases over epochs to get an idea of how well the model is learning."
   ]
  },
  {
   "cell_type": "code",
   "execution_count": 31,
   "id": "de245944-413a-4eb1-a334-ee924a21324f",
   "metadata": {},
   "outputs": [
    {
     "ename": "NameError",
     "evalue": "name 'train_loss_values' is not defined",
     "output_type": "error",
     "traceback": [
      "\u001b[1;31m---------------------------------------------------------------------------\u001b[0m",
      "\u001b[1;31mNameError\u001b[0m                                 Traceback (most recent call last)",
      "Cell \u001b[1;32mIn[31], line 4\u001b[0m\n\u001b[0;32m      1\u001b[0m \u001b[38;5;28;01mimport\u001b[39;00m \u001b[38;5;21;01mmatplotlib\u001b[39;00m\u001b[38;5;21;01m.\u001b[39;00m\u001b[38;5;21;01mpyplot\u001b[39;00m \u001b[38;5;28;01mas\u001b[39;00m \u001b[38;5;21;01mplt\u001b[39;00m\n\u001b[0;32m      3\u001b[0m \u001b[38;5;66;03m# Plot training loss\u001b[39;00m\n\u001b[1;32m----> 4\u001b[0m plt\u001b[38;5;241m.\u001b[39mplot(\u001b[38;5;28mrange\u001b[39m(\u001b[38;5;241m1\u001b[39m, num_epochs \u001b[38;5;241m+\u001b[39m \u001b[38;5;241m1\u001b[39m), \u001b[43mtrain_loss_values\u001b[49m, marker\u001b[38;5;241m=\u001b[39m\u001b[38;5;124m'\u001b[39m\u001b[38;5;124mo\u001b[39m\u001b[38;5;124m'\u001b[39m)\n\u001b[0;32m      5\u001b[0m plt\u001b[38;5;241m.\u001b[39mtitle(\u001b[38;5;124m\"\u001b[39m\u001b[38;5;124mTraining Loss over Epochs\u001b[39m\u001b[38;5;124m\"\u001b[39m)\n\u001b[0;32m      6\u001b[0m plt\u001b[38;5;241m.\u001b[39mxlabel(\u001b[38;5;124m\"\u001b[39m\u001b[38;5;124mEpochs\u001b[39m\u001b[38;5;124m\"\u001b[39m)\n",
      "\u001b[1;31mNameError\u001b[0m: name 'train_loss_values' is not defined"
     ]
    }
   ],
   "source": [
    "import matplotlib.pyplot as plt\n",
    "\n",
    "# Plot training loss\n",
    "plt.plot(range(1, num_epochs + 1), train_loss_values, marker='o')\n",
    "plt.title(\"Training Loss over Epochs\")\n",
    "plt.xlabel(\"Epochs\")\n",
    "plt.ylabel(\"Loss\")\n",
    "plt.grid(True)\n",
    "plt.show()"
   ]
  },
  {
   "cell_type": "markdown",
   "id": "c5d133af-d787-4013-86f3-c2270beec531",
   "metadata": {},
   "source": [
    "## 8. Exploring Weights and Activations\n",
    "We visualize the distribution of weights in the model and analyze how activations change."
   ]
  },
  {
   "cell_type": "code",
   "execution_count": 33,
   "id": "4ef86687-10d7-4cdd-9ef8-4affde505abe",
   "metadata": {},
   "outputs": [
    {
     "data": {
      "image/png": "[encoded data removed]",
      "text/plain": [
       "<Figure size 640x480 with 1 Axes>"
      ]
     },
     "metadata": {},
     "output_type": "display_data"
    }
   ],
   "source": [
    "# Example: Visualize the distribution of weights in the first fully connected layer\n",
    "weights = model.fc1.weight.data.cpu().numpy()\n",
    "plt.hist(weights.flatten(), bins=50, alpha=0.7)\n",
    "plt.title(\"Distribution of Weights (First Layer)\")\n",
    "plt.xlabel(\"Weight Value\")\n",
    "plt.ylabel(\"Frequency\")\n",
    "plt.show()"
   ]
  },
  {
   "cell_type": "markdown",
   "id": "946adaed-964e-469f-ac3d-836d9e94b2f1",
   "metadata": {},
   "source": [
    "## Ideas to expand up on: \n",
    "1. Activations Across Layers\n",
    "What to Visualize: Plot histograms or scatter plots of neuron activations for each layer, especially after applying the ReLU activation function.\n",
    "Why It's Cool: It shows how the network transforms data layer by layer and highlights issues like dead neurons (when ReLU outputs are zero).\n",
    "2. Weight Distributions\n",
    "What to Visualize: Histograms of the weight values for each layer at different training epochs.\n",
    "Why It's Cool: You can see how weights evolve during training and whether they become too large or small. It helps understand weight initialization and its effect on learning.\n",
    "3. Gradient Flow\n",
    "What to Visualize: Histograms or line plots of gradient values during backpropagation for each layer.\n",
    "Why It's Cool: This visualization can reveal if you have problems like vanishing or exploding gradients, which are crucial for understanding why deeper networks may fail to train.\n",
    "4. Loss Landscape\n",
    "What to Visualize: A 3D plot of the loss surface around the current parameters. This is more advanced but very insightful.\n",
    "Why It's Cool: It helps understand how \"bumpy\" or \"smooth\" the optimization landscape is, which can affect convergence and optimization stability.\n",
    "5. Decision Boundaries (for Simpler Data)\n",
    "What to Visualize: If using a simpler 2D dataset (like circles or moons), plot the decision boundaries learned by the network.\n",
    "Why It's Cool: You can see how the MLP adjusts its boundaries as it learns, illustrating how non-linearity helps the model capture complex patterns.\n",
    "6. Feature Space Using t-SNE or PCA\n",
    "What to Visualize: Use dimensionality reduction to project the features from the penultimate layer into 2D space and plot them with different colors for each class.\n",
    "Why It's Cool: This shows how well the network separates the data into clusters before making the final classification.\n",
    "7. Class-wise Performance\n",
    "What to Visualize: A bar chart showing the accuracy for each class in the dataset.\n",
    "Why It's Cool: It highlights which classes are easier or harder for the model to learn, offering insights into class imbalance or feature complexity.\n",
    "8. Effect of Hyperparameters\n",
    "What to Play With: Experiment with learning rates, number of hidden units, and number of layers.\n",
    "Why It's Cool: Visualizing the impact on the loss curve and training dynamics helps build an intuitive understanding of how hyperparameters affect learning.\n",
    "9. Training Dynamics: Loss and Accuracy\n",
    "What to Visualize: Plot the loss and accuracy curves for both training and validation sets.\n",
    "Why It's Cool: It helps diagnose overfitting or underfitting by showing if the model learns well on the training data but struggles on validation data.\n",
    "10. Neuron \"Dead Zones\" (for ReLU)\n",
    "What to Visualize: Show which neurons in ReLU layers are consistently inactive (output zero).\n",
    "Why It's Cool: Understanding dead neurons helps explain why certain architectures might not be learning effectively and may need architectural changes.\n"
   ]
  }
 ],
 "metadata": {
  "kernelspec": {
   "display_name": "Python 3 (ipykernel)",
   "language": "python",
   "name": "python3"
  },
  "language_info": {
   "codemirror_mode": {
    "name": "ipython",
    "version": 3
   },
   "file_extension": ".py",
   "mimetype": "text/x-python",
   "name": "python",
   "nbconvert_exporter": "python",
   "pygments_lexer": "ipython3",
   "version": "3.8.20"
  }
 },
 "nbformat": 4,
 "nbformat_minor": 5
}
