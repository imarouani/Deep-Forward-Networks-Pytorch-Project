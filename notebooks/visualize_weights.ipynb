{
 "cells": [
  {
   "cell_type": "code",
   "execution_count": null,
   "metadata": {},
   "outputs": [],
   "source": [
    "import torch\n",
    "import matplotlib.pyplot as plt\n",
    "\n",
    "# Load saved weights\n",
    "weights_epoch_1 = torch.load('weights_epoch_1.pth')\n",
    "weights_epoch_10 = torch.load('weights_epoch_10.pth')\n",
    "\n",
    "# Plot histograms of the first fully connected layer's weights\n",
    "plt.hist(weights_epoch_1['fc1.weight'].flatten().numpy(), bins=50, alpha=0.5, label='Epoch 1')\n",
    "plt.hist(weights_epoch_10['fc1.weight'].flatten().numpy(), bins=50, alpha=0.5, label='Epoch 10')\n",
    "plt.title(\"Weight Distribution Comparison\")\n",
    "plt.xlabel(\"Weight Values\")\n",
    "plt.ylabel(\"Frequency\")\n",
    "plt.legend()\n",
    "plt.show()\n"
   ]
  }
 ],
 "metadata": {
  "kernelspec": {
   "display_name": "base",
   "language": "python",
   "name": "python3"
  },
  "language_info": {
   "name": "python",
   "version": "3.11.5"
  }
 },
 "nbformat": 4,
 "nbformat_minor": 2
}
