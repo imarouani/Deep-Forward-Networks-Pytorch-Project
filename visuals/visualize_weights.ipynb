{
 "cells": [
  {
   "cell_type": "code",
   "execution_count": 1,
   "metadata": {},
   "outputs": [],
   "source": [
    "import torch\n",
    "import matplotlib.pyplot as plt\n",
    "\n",
    "def plot_weight_distribution(weights_epoch_1_path, weights_epoch_10_path):\n",
    "    weights_epoch_1 = torch.load(weights_epoch_1_path)\n",
    "    weights_epoch_10 = torch.load(weights_epoch_10_path)\n",
    "\n",
    "    plt.hist(weights_epoch_1['fc1.weight'].flatten().numpy(), bins=50, alpha=0.5, label='Epoch 1')\n",
    "    plt.hist(weights_epoch_10['fc1.weight'].flatten().numpy(), bins=50, alpha=0.5, label='Epoch 10')\n",
    "    plt.title(\"Weight Distribution Comparison\")\n",
    "    plt.xlabel(\"Weight Values\")\n",
    "    plt.ylabel(\"Frequency\")\n",
    "    plt.legend()\n",
    "    plt.show()\n"
   ]
  },
  {
   "cell_type": "code",
   "execution_count": null,
   "metadata": {},
   "outputs": [],
   "source": []
  }
 ],
 "metadata": {
  "kernelspec": {
   "display_name": "Python 3 (ipykernel)",
   "language": "python",
   "name": "python3"
  },
  "language_info": {
   "codemirror_mode": {
    "name": "ipython",
    "version": 3
   },
   "file_extension": ".py",
   "mimetype": "text/x-python",
   "name": "python",
   "nbconvert_exporter": "python",
   "pygments_lexer": "ipython3",
   "version": "3.8.20"
  }
 },
 "nbformat": 4,
 "nbformat_minor": 4
}
